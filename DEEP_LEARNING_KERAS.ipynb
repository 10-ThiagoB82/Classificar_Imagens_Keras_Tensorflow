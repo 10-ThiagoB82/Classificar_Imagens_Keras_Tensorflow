{
  "nbformat": 4,
  "nbformat_minor": 0,
  "metadata": {
    "colab": {
      "name": "DEEP LEARNING KERAS",
      "provenance": [],
      "collapsed_sections": [],
      "authorship_tag": "ABX9TyN8/+vXNx6boyH8hqbJq9co",
      "include_colab_link": true
    },
    "kernelspec": {
      "name": "python3",
      "display_name": "Python 3"
    }
  },
  "cells": [
    {
      "cell_type": "markdown",
      "metadata": {
        "id": "view-in-github",
        "colab_type": "text"
      },
      "source": [
        "<a href=\"https://colab.research.google.com/github/10-ThiagoB82/Classificar_Imagens_Keras_Tensorflow/blob/main/DEEP_LEARNING_KERAS.ipynb\" target=\"_parent\"><img src=\"https://colab.research.google.com/assets/colab-badge.svg\" alt=\"Open In Colab\"/></a>"
      ]
    },
    {
      "cell_type": "code",
      "metadata": {
        "id": "f-iZCcQ_6sPM"
      },
      "source": [
        "#IMPORTAR.\r\n",
        "import tensorflow as tf\r\n",
        "from tensorflow import keras\r\n",
        "import matplotlib.pyplot as plt\r\n",
        "import numpy as np\r\n",
        "from tensorflow.keras.models import load_model"
      ],
      "execution_count": 3,
      "outputs": []
    },
    {
      "cell_type": "code",
      "metadata": {
        "id": "DcOkK-t96sBb",
        "colab": {
          "base_uri": "https://localhost:8080/",
          "height": 282
        },
        "outputId": "4e142180-85ec-4e4b-9ccf-0e60c3cc3463"
      },
      "source": [
        "#CARREGAR O DATASET.\r\n",
        "dataset = keras.datasets.fashion_mnist\r\n",
        "((imagens_treino, identificacoes_treino),(imagens_teste, identificacoes_teste)) = dataset.load_data()\r\n",
        "\r\n",
        "\r\n",
        "#EXPLORAR OS DADOS.\r\n",
        "len(imagens_treino)\r\n",
        "imagens_treino.shape\r\n",
        "imagens_teste.shape\r\n",
        "len(identificacoes_teste)\r\n",
        "identificacoes_treino.min()\r\n",
        "identificacoes_treino.max()\r\n",
        "\r\n",
        "\r\n",
        "#EXIBIR OS DADOS.\r\n",
        "total_de_classificacoes = 10\r\n",
        "nomes_de_classificacoes = ['Camiseta', 'Calça', 'Pullover', 'Vestido', 'Casaco', 'Sandália', 'Camisa', 'Tênis', 'Bolsa', 'Bota']\r\n",
        "\r\n",
        "plt.imshow(imagens_treino[0])\r\n",
        "plt.colorbar()"
      ],
      "execution_count": 12,
      "outputs": [
        {
          "output_type": "execute_result",
          "data": {
            "text/plain": [
              "<matplotlib.colorbar.Colorbar at 0x7f4609bf5f60>"
            ]
          },
          "metadata": {
            "tags": []
          },
          "execution_count": 12
        },
        {
          "output_type": "display_data",
          "data": {
            "image/png": "[encoded data removed]",
            "text/plain": [
              "<Figure size 432x288 with 2 Axes>"
            ]
          },
          "metadata": {
            "tags": [],
            "needs_background": "light"
          }
        }
      ]
    },
    {
      "cell_type": "code",
      "metadata": {
        "id": "CN3r0XVg4_wV"
      },
      "source": [
        "#NORMALIZANDO AS IMAGENS.\r\n",
        "\r\n",
        "imagens_treino = imagens_treino/float(250)"
      ],
      "execution_count": 13,
      "outputs": []
    },
    {
      "cell_type": "code",
      "metadata": {
        "colab": {
          "base_uri": "https://localhost:8080/"
        },
        "id": "S6f3YzPIhmU1",
        "outputId": "d4310a72-3e8e-4ddf-c859-b59842c61138"
      },
      "source": [
        "#CRIANDO,COMPILANDO,TREINANDO E NORMALIZANDO O MODELO.\r\n",
        "#DROPOUT(0.2) DIMINUI O VALOR DO TREINO(MAIS USADO).\r\n",
        "\r\n",
        "modelo = keras.Sequential([\r\n",
        "    keras.layers.Flatten(input_shape=(28, 28)),\r\n",
        "    keras.layers.Dense(256, activation=tf.nn.relu),\r\n",
        "#    keras.layers.Dense(128, activation=tf.nn.relu),\r\n",
        "#    keras.layers.Dense(64, activation=tf.nn.relu),\r\n",
        "#    keras.layers.Dense(32, activation=tf.nn.relu),\r\n",
        "    keras.layers.Dropout(0.2),\r\n",
        "    keras.layers.Dense(10, activation=tf.nn.softmax)])\r\n",
        "\r\n",
        "modelo.compile(optimizer='adam',\r\n",
        "               loss='sparse_categorical_crossentropy',\r\n",
        "               metrics=['accuracy'])\r\n",
        "historico = modelo.fit(imagens_treino, identificacoes_treino, epochs=5, validation_split=0.2)\r\n"
      ],
      "execution_count": 22,
      "outputs": [
        {
          "output_type": "stream",
          "text": [
            "Epoch 1/5\n",
            "1500/1500 [==============================] - 5s 3ms/step - loss: 0.6565 - accuracy: 0.7695 - val_loss: 0.4020 - val_accuracy: 0.8537\n",
            "Epoch 2/5\n",
            "1500/1500 [==============================] - 4s 3ms/step - loss: 0.4097 - accuracy: 0.8527 - val_loss: 0.3621 - val_accuracy: 0.8703\n",
            "Epoch 3/5\n",
            "1500/1500 [==============================] - 5s 3ms/step - loss: 0.3640 - accuracy: 0.8684 - val_loss: 0.3707 - val_accuracy: 0.8683\n",
            "Epoch 4/5\n",
            "1500/1500 [==============================] - 4s 3ms/step - loss: 0.3413 - accuracy: 0.8728 - val_loss: 0.3539 - val_accuracy: 0.8727\n",
            "Epoch 5/5\n",
            "1500/1500 [==============================] - 4s 3ms/step - loss: 0.3180 - accuracy: 0.8818 - val_loss: 0.3331 - val_accuracy: 0.8811\n"
          ],
          "name": "stdout"
        }
      ]
    },
    {
      "cell_type": "code",
      "metadata": {
        "id": "cTWYCG73NG9U"
      },
      "source": [
        "#SALVANDO E CARREGANDO O MODELO TREINADO.\r\n",
        "\r\n",
        "modelo.save('modelo.h5')\r\n",
        "modelo_salvo = load_model('modelo.h5')"
      ],
      "execution_count": 23,
      "outputs": []
    },
    {
      "cell_type": "code",
      "metadata": {
        "id": "L7iphZQQC9TR",
        "colab": {
          "base_uri": "https://localhost:8080/",
          "height": 314
        },
        "outputId": "bfaca716-3af8-4d5d-bcab-9ca11e2b498d"
      },
      "source": [
        "#GRÁFICO DA ACURÁCIA.\r\n",
        "\r\n",
        "plt.plot(historico.history['accuracy'])\r\n",
        "plt.plot(historico.history['val_accuracy'])\r\n",
        "plt.title('Acurácia por Épocas')\r\n",
        "plt.xlabel('épocas')\r\n",
        "plt.ylabel('acurácia')\r\n",
        "plt.legend(['treino', 'validação'])\r\n"
      ],
      "execution_count": 24,
      "outputs": [
        {
          "output_type": "execute_result",
          "data": {
            "text/plain": [
              "<matplotlib.legend.Legend at 0x7f46096abf28>"
            ]
          },
          "metadata": {
            "tags": []
          },
          "execution_count": 24
        },
        {
          "output_type": "display_data",
          "data": {
            "image/png": "[encoded data removed]",
            "text/plain": [
              "<Figure size 432x288 with 1 Axes>"
            ]
          },
          "metadata": {
            "tags": [],
            "needs_background": "light"
          }
        }
      ]
    },
    {
      "cell_type": "code",
      "metadata": {
        "id": "9wK2vXTcG8Cz",
        "colab": {
          "base_uri": "https://localhost:8080/",
          "height": 314
        },
        "outputId": "9eb34aed-0c23-4914-a98d-16f28ed26bab"
      },
      "source": [
        "#GRÁFICO DO PERDAS.\r\n",
        "\r\n",
        "plt.plot(historico.history['loss'])\r\n",
        "plt.plot(historico.history['val_loss'])\r\n",
        "plt.title('Loss por Épocas')\r\n",
        "plt.xlabel('épocas')\r\n",
        "plt.ylabel('perda')\r\n",
        "plt.legend(['treino', 'validação'])"
      ],
      "execution_count": 25,
      "outputs": [
        {
          "output_type": "execute_result",
          "data": {
            "text/plain": [
              "<matplotlib.legend.Legend at 0x7f460961bda0>"
            ]
          },
          "metadata": {
            "tags": []
          },
          "execution_count": 25
        },
        {
          "output_type": "display_data",
          "data": {
            "image/png": "[encoded data removed]",
            "text/plain": [
              "<Figure size 432x288 with 1 Axes>"
            ]
          },
          "metadata": {
            "tags": [],
            "needs_background": "light"
          }
        }
      ]
    },
    {
      "cell_type": "code",
      "metadata": {
        "id": "cg6eV_Y08w87",
        "colab": {
          "base_uri": "https://localhost:8080/"
        },
        "outputId": "23ffee9a-5cb2-4779-aad6-7e17d16eef4c"
      },
      "source": [
        "#TESTANDO O MODELO X MODELO SALVO.\r\n",
        "\r\n",
        "testes = modelo.predict(imagens_teste)\r\n",
        "print('Resultado do Teste: ', np.argmax(testes[1]))\r\n",
        "print('Número da Imagem de Teste:', identificacoes_teste[1])\r\n",
        "\r\n",
        "\r\n",
        "testes_modelo_salvo = modelo_salvo.predict(imagens_teste)\r\n",
        "print('Resultado do Teste Modelo Salvo:', np.argmax(testes_modelo_salvo[1]))\r\n",
        "print('Número da Imagem de Teste:', identificacoes_teste[1])"
      ],
      "execution_count": 26,
      "outputs": [
        {
          "output_type": "stream",
          "text": [
            "Resultado do Teste:  2\n",
            "Número da Imagem de Teste: 2\n",
            "Resultado do Teste Modelo Salvo: 2\n",
            "Número da Imagem de Teste: 2\n"
          ],
          "name": "stdout"
        }
      ]
    },
    {
      "cell_type": "code",
      "metadata": {
        "id": "kpsti-fh-e_-",
        "colab": {
          "base_uri": "https://localhost:8080/"
        },
        "outputId": "c70bb729-e8bb-4386-bd69-6f6726718330"
      },
      "source": [
        "#AVALIANDO O MODELO.\r\n",
        "\r\n",
        "perda_teste, acuracia_teste = modelo.evaluate(imagens_teste, identificacoes_teste)\r\n",
        "print('Perda do Teste:', perda_teste)\r\n",
        "print('Acurácia do Teste:', acuracia_teste)"
      ],
      "execution_count": 27,
      "outputs": [
        {
          "output_type": "stream",
          "text": [
            "313/313 [==============================] - 1s 2ms/step - loss: 56.1358 - accuracy: 0.8548\n",
            "Perda do Teste: 56.135826110839844\n",
            "Acurácia do Teste: 0.8547999858856201\n"
          ],
          "name": "stdout"
        }
      ]
    }
  ]
}