{
  "nbformat": 4,
  "nbformat_minor": 0,
  "metadata": {
    "colab": {
      "name": "DEEP LEARNING KERAS",
      "provenance": [],
      "collapsed_sections": [],
      "authorship_tag": "ABX9TyMxaVq6IkLBYTeHEuXVb63g",
      "include_colab_link": true
    },
    "kernelspec": {
      "name": "python3",
      "display_name": "Python 3"
    }
  },
  "cells": [
    {
      "cell_type": "markdown",
      "metadata": {
        "id": "view-in-github",
        "colab_type": "text"
      },
      "source": [
        "<a href=\"https://colab.research.google.com/github/10-ThiagoB82/Classificar_Imagens_Keras_Tensorflow/blob/main/DEEP_LEARNING_KERAS.ipynb\" target=\"_parent\"><img src=\"https://colab.research.google.com/assets/colab-badge.svg\" alt=\"Open In Colab\"/></a>"
      ]
    },
    {
      "cell_type": "code",
      "metadata": {
        "id": "f-iZCcQ_6sPM"
      },
      "source": [
        "#IMPORTAR.\r\n",
        "import tensorflow as tf\r\n",
        "from tensorflow import keras\r\n",
        "import matplotlib.pyplot as plt\r\n",
        "import numpy as np\r\n",
        "from tensorflow.keras.models import load_model"
      ],
      "execution_count": 39,
      "outputs": []
    },
    {
      "cell_type": "code",
      "metadata": {
        "id": "DcOkK-t96sBb"
      },
      "source": [
        "#CARREGAR O DATASET.\r\n",
        "dataset = keras.datasets.fashion_mnist\r\n",
        "((imagens_treino, identificacoes_treino),(imagens_teste, identificacoes_teste)) = dataset.load_data()"
      ],
      "execution_count": 40,
      "outputs": []
    },
    {
      "cell_type": "code",
      "metadata": {
        "colab": {
          "base_uri": "https://localhost:8080/"
        },
        "id": "ct91F_nQD2Qf",
        "outputId": "98d95688-4260-466d-afaa-a51ed07f276b"
      },
      "source": [
        "#EXPLORAR OS DADOS.\r\n",
        "len(imagens_treino)\r\n",
        "imagens_treino.shape\r\n",
        "imagens_teste.shape\r\n",
        "len(identificacoes_teste)\r\n",
        "identificacoes_treino.min()\r\n",
        "identificacoes_treino.max()"
      ],
      "execution_count": 41,
      "outputs": [
        {
          "output_type": "execute_result",
          "data": {
            "text/plain": [
              "9"
            ]
          },
          "metadata": {
            "tags": []
          },
          "execution_count": 41
        }
      ]
    },
    {
      "cell_type": "code",
      "metadata": {
        "colab": {
          "base_uri": "https://localhost:8080/",
          "height": 282
        },
        "id": "mBg6pBsOD7qd",
        "outputId": "77ba4688-a404-4c65-c34b-c2dfc664909d"
      },
      "source": [
        "#EXIBIR OS DADOS.\r\n",
        "total_de_classificacoes = 10\r\n",
        "nomes_de_classificacoes = ['Camiseta', 'Calça', 'Pullover', 'Vestido', 'Casaco',\r\n",
        "                           'Sandália', 'Camisa', 'Tênis', 'Bolsa', 'Bota']\r\n",
        "\r\n",
        "plt.imshow(imagens_treino[0])\r\n",
        "plt.colorbar()"
      ],
      "execution_count": 42,
      "outputs": [
        {
          "output_type": "execute_result",
          "data": {
            "text/plain": [
              "<matplotlib.colorbar.Colorbar at 0x7f24ae71b908>"
            ]
          },
          "metadata": {
            "tags": []
          },
          "execution_count": 42
        },
        {
          "output_type": "display_data",
          "data": {
            "image/png": "[encoded data removed]",
            "text/plain": [
              "<Figure size 432x288 with 2 Axes>"
            ]
          },
          "metadata": {
            "tags": [],
            "needs_background": "light"
          }
        }
      ]
    },
    {
      "cell_type": "code",
      "metadata": {
        "id": "CN3r0XVg4_wV"
      },
      "source": [
        "#NORMALIZANDO AS IMAGENS.\r\n",
        "imagens_treino = imagens_treino/float(250)"
      ],
      "execution_count": 43,
      "outputs": []
    },
    {
      "cell_type": "code",
      "metadata": {
        "colab": {
          "base_uri": "https://localhost:8080/"
        },
        "id": "S6f3YzPIhmU1",
        "outputId": "18e8871b-60b7-457c-d15f-7630145e1f3e"
      },
      "source": [
        "#CRIANDO,COMPILANDO,TREINANDO E NORMALIZANDO O MODELO.\r\n",
        "#DROPOUT(0.2) DIMINUI O VALOR DO TREINO(MAIS USADO).\r\n",
        "\r\n",
        "\r\n",
        "modelo = keras.Sequential([\r\n",
        "    keras.layers.Flatten(input_shape=(28, 28)),\r\n",
        "    keras.layers.Dense(256, activation=tf.nn.relu),\r\n",
        "#   keras.layers.Dense(128, activation=tf.nn.relu),\r\n",
        "#   keras.layers.Dense(64, activation=tf.nn.relu),\r\n",
        "#   keras.layers.Dense(32, activation=tf.nn.relu),\r\n",
        "    keras.layers.Dropout(0.2),\r\n",
        "    keras.layers.Dense(10, activation=tf.nn.softmax)])\r\n",
        "\r\n",
        "adam = keras.optimizers.Adam(lr=0.002)\r\n",
        "\r\n",
        "'''lr\r\n",
        "learning rate\r\n",
        "taxa de aprendizado'''\r\n",
        "\r\n",
        "parando_cedo = [keras.callbacks.EarlyStopping(monitor = 'val_loss'),\r\n",
        "                keras.callbacks.ModelCheckpoint(filepath= 'melhor_modelo.hdf5',\r\n",
        "                                                monitor='val_loss', save_best_only=True)]\r\n",
        "\r\n",
        "modelo.compile(optimizer=adam,\r\n",
        "               loss='sparse_categorical_crossentropy',\r\n",
        "               metrics=['accuracy'])\r\n",
        "\r\n",
        "historico = modelo.fit(imagens_treino, identificacoes_treino, batch_size = 480,\r\n",
        "                       epochs=5, validation_split=0.2, callbacks=parando_cedo )\r\n"
      ],
      "execution_count": 45,
      "outputs": [
        {
          "output_type": "stream",
          "text": [
            "Epoch 1/5\n",
            "100/100 [==============================] - 2s 17ms/step - loss: 0.9625 - accuracy: 0.6624 - val_loss: 0.4586 - val_accuracy: 0.8368\n",
            "Epoch 2/5\n",
            "100/100 [==============================] - 1s 14ms/step - loss: 0.4559 - accuracy: 0.8386 - val_loss: 0.4088 - val_accuracy: 0.8514\n",
            "Epoch 3/5\n",
            "100/100 [==============================] - 1s 14ms/step - loss: 0.4009 - accuracy: 0.8581 - val_loss: 0.3825 - val_accuracy: 0.8618\n",
            "Epoch 4/5\n",
            "100/100 [==============================] - 1s 14ms/step - loss: 0.3764 - accuracy: 0.8643 - val_loss: 0.3653 - val_accuracy: 0.8660\n",
            "Epoch 5/5\n",
            "100/100 [==============================] - 1s 14ms/step - loss: 0.3464 - accuracy: 0.8774 - val_loss: 0.3513 - val_accuracy: 0.8727\n"
          ],
          "name": "stdout"
        }
      ]
    },
    {
      "cell_type": "code",
      "metadata": {
        "colab": {
          "base_uri": "https://localhost:8080/"
        },
        "id": "FeES7lA8WAjs",
        "outputId": "f8482c9a-94b9-4b0b-87fc-9e467c553f0f"
      },
      "source": [
        "#SUMARIO DO MODE3LO.\r\n",
        "\r\n",
        "sumario_do_modelo = modelo.summary()"
      ],
      "execution_count": 46,
      "outputs": [
        {
          "output_type": "stream",
          "text": [
            "Model: \"sequential_9\"\n",
            "_________________________________________________________________\n",
            "Layer (type)                 Output Shape              Param #   \n",
            "=================================================================\n",
            "flatten_9 (Flatten)          (None, 784)               0         \n",
            "_________________________________________________________________\n",
            "dense_18 (Dense)             (None, 256)               200960    \n",
            "_________________________________________________________________\n",
            "dropout_9 (Dropout)          (None, 256)               0         \n",
            "_________________________________________________________________\n",
            "dense_19 (Dense)             (None, 10)                2570      \n",
            "=================================================================\n",
            "Total params: 203,530\n",
            "Trainable params: 203,530\n",
            "Non-trainable params: 0\n",
            "_________________________________________________________________\n"
          ],
          "name": "stdout"
        }
      ]
    },
    {
      "cell_type": "code",
      "metadata": {
        "colab": {
          "base_uri": "https://localhost:8080/"
        },
        "id": "DXa2EikAXQY4",
        "outputId": "3136fd67-dd78-4f3c-fa38-dd8eead3664a"
      },
      "source": [
        "#PESOS DA PRIMEIRA CAMADA DENSE.\r\n",
        "\r\n",
        "pesos_da_camada_dense = modelo.layers[1].get_weights()[0]\r\n",
        "pesos_da_camada_dense"
      ],
      "execution_count": 47,
      "outputs": [
        {
          "output_type": "execute_result",
          "data": {
            "text/plain": [
              "array([[-9.2427552e-02,  5.3054255e-02,  4.7120754e-02, ...,\n",
              "        -4.8919264e-02, -5.4179989e-02, -2.2756629e-02],\n",
              "       [-5.0229061e-02, -2.0488320e-02, -9.7433612e-02, ...,\n",
              "         1.1839579e-02,  4.1364413e-02, -1.0715831e-01],\n",
              "       [-1.2395448e-01,  2.8565583e-01, -7.3646136e-02, ...,\n",
              "        -8.4567688e-02,  5.2938931e-02, -1.7791799e-01],\n",
              "       ...,\n",
              "       [ 2.7766323e-03,  8.7404393e-02,  1.5334618e-02, ...,\n",
              "        -5.4706756e-02,  8.3216131e-02, -2.3912303e-02],\n",
              "       [ 2.5343182e-02, -1.9579668e-02, -1.2188089e-01, ...,\n",
              "        -8.1265800e-02,  4.7665451e-02, -6.3092351e-02],\n",
              "       [-1.1143231e-01, -1.9042846e-02, -2.4683814e-04, ...,\n",
              "        -8.7673165e-02, -3.4850877e-02, -1.8733727e-02]], dtype=float32)"
            ]
          },
          "metadata": {
            "tags": []
          },
          "execution_count": 47
        }
      ]
    },
    {
      "cell_type": "code",
      "metadata": {
        "colab": {
          "base_uri": "https://localhost:8080/",
          "height": 236
        },
        "id": "PC0oxERwahip",
        "outputId": "283138b3-0418-4716-d70f-ef4ec561c833"
      },
      "source": [
        "pesos_camada_dense.shape\r\n",
        "pesos_camada_dense_zerados = np.zeros((784, 256))\r\n",
        "\r\n",
        "\r\n",
        "pesos_camada_dense_aleatorios = np.random.rand(784, 256)\r\n",
        "\r\n",
        "'''\r\n",
        "modelo.layers[1].set_weights([pesos_da_camada_dense_zerados, vieses_da_camada_dense])\r\n",
        "'''\r\n",
        "\r\n",
        "modelo.layers[1].set_weights([pesos_camada_dense_aleatorios, vieses_camada_dense])\r\n",
        "\r\n",
        "modelo.layers[1].get_weights()"
      ],
      "execution_count": 50,
      "outputs": [
        {
          "output_type": "error",
          "ename": "NameError",
          "evalue": "ignored",
          "traceback": [
            "\u001b[0;31m---------------------------------------------------------------------------\u001b[0m",
            "\u001b[0;31mNameError\u001b[0m                                 Traceback (most recent call last)",
            "\u001b[0;32m<ipython-input-50-1a7f1aa49321>\u001b[0m in \u001b[0;36m<module>\u001b[0;34m()\u001b[0m\n\u001b[0;32m----> 1\u001b[0;31m \u001b[0mpesos_camada_dense\u001b[0m\u001b[0;34m.\u001b[0m\u001b[0mshape\u001b[0m\u001b[0;34m\u001b[0m\u001b[0;34m\u001b[0m\u001b[0m\n\u001b[0m\u001b[1;32m      2\u001b[0m \u001b[0mpesos_camada_dense_zerados\u001b[0m \u001b[0;34m=\u001b[0m \u001b[0mnp\u001b[0m\u001b[0;34m.\u001b[0m\u001b[0mzeros\u001b[0m\u001b[0;34m(\u001b[0m\u001b[0;34m(\u001b[0m\u001b[0;36m784\u001b[0m\u001b[0;34m,\u001b[0m \u001b[0;36m256\u001b[0m\u001b[0;34m)\u001b[0m\u001b[0;34m)\u001b[0m\u001b[0;34m\u001b[0m\u001b[0;34m\u001b[0m\u001b[0m\n\u001b[1;32m      3\u001b[0m \u001b[0;34m\u001b[0m\u001b[0m\n\u001b[1;32m      4\u001b[0m \u001b[0;34m\u001b[0m\u001b[0m\n\u001b[1;32m      5\u001b[0m \u001b[0mpesos_camada_dense_aleatorios\u001b[0m \u001b[0;34m=\u001b[0m \u001b[0mnp\u001b[0m\u001b[0;34m.\u001b[0m\u001b[0mrandom\u001b[0m\u001b[0;34m.\u001b[0m\u001b[0mrand\u001b[0m\u001b[0;34m(\u001b[0m\u001b[0;36m784\u001b[0m\u001b[0;34m,\u001b[0m \u001b[0;36m256\u001b[0m\u001b[0;34m)\u001b[0m\u001b[0;34m\u001b[0m\u001b[0;34m\u001b[0m\u001b[0m\n",
            "\u001b[0;31mNameError\u001b[0m: name 'pesos_camada_dense' is not defined"
          ]
        }
      ]
    },
    {
      "cell_type": "code",
      "metadata": {
        "colab": {
          "base_uri": "https://localhost:8080/"
        },
        "id": "aGHN4oIxb0Im",
        "outputId": "644fb12c-417c-439a-a6ca-1ab82d54153c"
      },
      "source": [
        "\r\n",
        "modelo.compile(optimizer='adam',\r\n",
        "               loss='sparse_categorical_crossentropy',\r\n",
        "               metrics=['accuracy'])\r\n",
        "historico = modelo.fit(imagens_treino, identificacoes_treino, epochs=5, validation_split=0.2)"
      ],
      "execution_count": 51,
      "outputs": [
        {
          "output_type": "stream",
          "text": [
            "Epoch 1/5\n",
            "1500/1500 [==============================] - 6s 3ms/step - loss: 0.3793 - accuracy: 0.8604 - val_loss: 0.3436 - val_accuracy: 0.8766\n",
            "Epoch 2/5\n",
            "1500/1500 [==============================] - 5s 3ms/step - loss: 0.3544 - accuracy: 0.8692 - val_loss: 0.3321 - val_accuracy: 0.8799\n",
            "Epoch 3/5\n",
            "1500/1500 [==============================] - 5s 4ms/step - loss: 0.3257 - accuracy: 0.8789 - val_loss: 0.3403 - val_accuracy: 0.8788\n",
            "Epoch 4/5\n",
            "1500/1500 [==============================] - 5s 4ms/step - loss: 0.3141 - accuracy: 0.8845 - val_loss: 0.3316 - val_accuracy: 0.8799\n",
            "Epoch 5/5\n",
            "1500/1500 [==============================] - 5s 4ms/step - loss: 0.3014 - accuracy: 0.8879 - val_loss: 0.3342 - val_accuracy: 0.8788\n"
          ],
          "name": "stdout"
        }
      ]
    },
    {
      "cell_type": "code",
      "metadata": {
        "colab": {
          "base_uri": "https://localhost:8080/",
          "height": 314
        },
        "id": "Ic6c8KwjcGaF",
        "outputId": "6532f414-a114-479f-b0c7-be989face024"
      },
      "source": [
        "plt.plot(historico.history['accuracy'])\r\n",
        "plt.plot(historico.history['val_accuracy'])\r\n",
        "plt.title('Acurácia por Épocas')\r\n",
        "plt.xlabel('épocas')\r\n",
        "plt.ylabel('acurácia')\r\n",
        "plt.legend(['treino', 'validação'])"
      ],
      "execution_count": 52,
      "outputs": [
        {
          "output_type": "execute_result",
          "data": {
            "text/plain": [
              "<matplotlib.legend.Legend at 0x7f24b14b5240>"
            ]
          },
          "metadata": {
            "tags": []
          },
          "execution_count": 52
        },
        {
          "output_type": "display_data",
          "data": {
            "image/png": "[encoded data removed]",
            "text/plain": [
              "<Figure size 432x288 with 1 Axes>"
            ]
          },
          "metadata": {
            "tags": [],
            "needs_background": "light"
          }
        }
      ]
    },
    {
      "cell_type": "code",
      "metadata": {
        "colab": {
          "base_uri": "https://localhost:8080/",
          "height": 314
        },
        "id": "JcVE-6oDgyNr",
        "outputId": "da2b3d8f-3b4b-4e55-e4dc-8f5eca1c3b52"
      },
      "source": [
        "plt.plot(historico.history['accuracy'])\r\n",
        "plt.plot(historico.history['val_accuracy'])\r\n",
        "plt.title('Acurácia por Épocas')\r\n",
        "plt.xlabel('épocas')\r\n",
        "plt.ylabel('acurácia')\r\n",
        "plt.legend(['treino', 'validação'])"
      ],
      "execution_count": 53,
      "outputs": [
        {
          "output_type": "execute_result",
          "data": {
            "text/plain": [
              "<matplotlib.legend.Legend at 0x7f24ae697588>"
            ]
          },
          "metadata": {
            "tags": []
          },
          "execution_count": 53
        },
        {
          "output_type": "display_data",
          "data": {
            "image/png": "[encoded data removed]",
            "text/plain": [
              "<Figure size 432x288 with 1 Axes>"
            ]
          },
          "metadata": {
            "tags": [],
            "needs_background": "light"
          }
        }
      ]
    },
    {
      "cell_type": "code",
      "metadata": {
        "id": "-EojKfSOhKHW",
        "colab": {
          "base_uri": "https://localhost:8080/"
        },
        "outputId": "3bbb9eb3-3859-4ec2-d963-3ff599c4f8c0"
      },
      "source": [
        "modelo.get_config()"
      ],
      "execution_count": 54,
      "outputs": [
        {
          "output_type": "execute_result",
          "data": {
            "text/plain": [
              "{'layers': [{'class_name': 'InputLayer',\n",
              "   'config': {'batch_input_shape': (None, 28, 28),\n",
              "    'dtype': 'float32',\n",
              "    'name': 'flatten_9_input',\n",
              "    'ragged': False,\n",
              "    'sparse': False}},\n",
              "  {'class_name': 'Flatten',\n",
              "   'config': {'batch_input_shape': (None, 28, 28),\n",
              "    'data_format': 'channels_last',\n",
              "    'dtype': 'float32',\n",
              "    'name': 'flatten_9',\n",
              "    'trainable': True}},\n",
              "  {'class_name': 'Dense',\n",
              "   'config': {'activation': 'relu',\n",
              "    'activity_regularizer': None,\n",
              "    'bias_constraint': None,\n",
              "    'bias_initializer': {'class_name': 'Zeros', 'config': {}},\n",
              "    'bias_regularizer': None,\n",
              "    'dtype': 'float32',\n",
              "    'kernel_constraint': None,\n",
              "    'kernel_initializer': {'class_name': 'GlorotUniform',\n",
              "     'config': {'seed': None}},\n",
              "    'kernel_regularizer': None,\n",
              "    'name': 'dense_18',\n",
              "    'trainable': True,\n",
              "    'units': 256,\n",
              "    'use_bias': True}},\n",
              "  {'class_name': 'Dropout',\n",
              "   'config': {'dtype': 'float32',\n",
              "    'name': 'dropout_9',\n",
              "    'noise_shape': None,\n",
              "    'rate': 0.2,\n",
              "    'seed': None,\n",
              "    'trainable': True}},\n",
              "  {'class_name': 'Dense',\n",
              "   'config': {'activation': 'softmax',\n",
              "    'activity_regularizer': None,\n",
              "    'bias_constraint': None,\n",
              "    'bias_initializer': {'class_name': 'Zeros', 'config': {}},\n",
              "    'bias_regularizer': None,\n",
              "    'dtype': 'float32',\n",
              "    'kernel_constraint': None,\n",
              "    'kernel_initializer': {'class_name': 'GlorotUniform',\n",
              "     'config': {'seed': None}},\n",
              "    'kernel_regularizer': None,\n",
              "    'name': 'dense_19',\n",
              "    'trainable': True,\n",
              "    'units': 10,\n",
              "    'use_bias': True}}],\n",
              " 'name': 'sequential_9'}"
            ]
          },
          "metadata": {
            "tags": []
          },
          "execution_count": 54
        }
      ]
    },
    {
      "cell_type": "code",
      "metadata": {
        "colab": {
          "base_uri": "https://localhost:8080/",
          "height": 314
        },
        "id": "coPuEDiJcSNF",
        "outputId": "79a89742-cf88-4b94-f7c8-ac5fb6ce83f7"
      },
      "source": [
        "plt.plot(historico.history['loss'])\r\n",
        "plt.plot(historico.history['val_loss'])\r\n",
        "plt.title('Loss por Épocas')\r\n",
        "plt.xlabel('épocas')\r\n",
        "plt.ylabel('perda')\r\n",
        "plt.legend(['treino', 'validação'])"
      ],
      "execution_count": 55,
      "outputs": [
        {
          "output_type": "execute_result",
          "data": {
            "text/plain": [
              "<matplotlib.legend.Legend at 0x7f24a5c786a0>"
            ]
          },
          "metadata": {
            "tags": []
          },
          "execution_count": 55
        },
        {
          "output_type": "display_data",
          "data": {
            "image/png": "[encoded data removed]",
            "text/plain": [
              "<Figure size 432x288 with 1 Axes>"
            ]
          },
          "metadata": {
            "tags": [],
            "needs_background": "light"
          }
        }
      ]
    },
    {
      "cell_type": "code",
      "metadata": {
        "colab": {
          "base_uri": "https://localhost:8080/"
        },
        "id": "i0wsVBzDZbzK",
        "outputId": "7ceec28d-a44d-48dd-b6bd-aeb1bc7ae2c0"
      },
      "source": [
        "vieses_da_camada_dense = modelo.layers[1].get_weights()[1]\r\n",
        "vieses_da_camada_dense"
      ],
      "execution_count": 56,
      "outputs": [
        {
          "output_type": "execute_result",
          "data": {
            "text/plain": [
              "array([-0.4818521 ,  0.15907095, -0.06727115,  0.3064708 , -0.0350339 ,\n",
              "        0.01815489, -0.02365556,  0.26445946,  0.20126577, -0.35462865,\n",
              "        0.09199278, -0.01362376,  0.24755758,  0.3146242 , -0.11198545,\n",
              "        0.3847831 ,  0.15836854,  0.23643814,  0.11626071,  0.32941517,\n",
              "        0.2839167 ,  0.03928252, -0.01084724,  0.16330777, -0.0104693 ,\n",
              "        0.02382861,  0.14378177,  0.38079426,  0.28154403,  0.25464466,\n",
              "        0.5861641 , -0.08437641, -0.01721008,  0.43245345, -0.04045121,\n",
              "       -0.04142657, -0.00370971,  0.19210997,  0.18269826,  0.26689598,\n",
              "       -0.27873376, -0.01273318,  0.19514869, -0.01358605,  0.07038599,\n",
              "        0.45525536,  0.3889272 ,  0.37002492,  0.09856449,  0.17948058,\n",
              "        0.24634941,  0.3160794 ,  0.10562037,  0.13688585,  0.00422903,\n",
              "        0.16874014,  0.11447405, -0.01635486,  0.319057  , -0.00745097,\n",
              "        0.10550676, -0.01668154, -0.03757516,  0.06415639,  0.00275344,\n",
              "        0.43276328, -0.05232701, -0.32574114,  0.01588215,  0.01702871,\n",
              "       -0.10981727, -0.01198911,  0.3126281 , -0.00789967,  0.04018769,\n",
              "       -0.00843376, -0.08692075,  0.34948602, -0.04506823, -0.01420269,\n",
              "       -0.01310922, -0.16884378,  0.00997588,  0.34768736,  0.3122991 ,\n",
              "       -0.01297757,  0.11146659,  0.31754872, -0.01502505,  0.29127306,\n",
              "       -0.01294154,  0.22359698,  0.13346379,  0.23172131,  0.40681115,\n",
              "        0.4081831 ,  0.10857184,  0.23978454, -0.05651921,  0.1154834 ,\n",
              "       -0.01670625, -0.01230118,  0.18524447,  0.31502768, -0.12697473,\n",
              "        0.03426769, -0.05783646,  0.16690047,  0.17605141,  0.07992582,\n",
              "        0.45540082, -0.007487  , -0.19782019,  0.16565607,  0.00942936,\n",
              "       -0.12105796,  0.08187169,  0.16070314,  0.66187906,  0.23929545,\n",
              "        0.2717092 ,  0.24156664,  0.23546733,  0.10338787,  0.10069326,\n",
              "        0.1008864 ,  0.2641622 ,  0.07121554,  0.24802545,  0.11139497,\n",
              "        0.12996355, -0.06215588,  0.14841391,  0.18094267,  0.4041622 ,\n",
              "        0.170111  , -0.03267176,  0.3880287 , -0.01177605, -0.02950055,\n",
              "        0.2013702 ,  0.12510455,  0.14303657, -0.01647518, -0.08209723,\n",
              "        0.310363  , -0.11925503, -0.01447704, -0.02565877, -0.08838189,\n",
              "        0.12572984,  0.33831203, -0.29466978,  0.24231923,  0.26413935,\n",
              "        0.08979425, -0.10029339, -0.08749744,  0.16117512, -0.01198323,\n",
              "        0.02844011,  0.17799781, -0.04260588,  0.337729  , -0.25575647,\n",
              "        0.05554042,  0.01954684,  0.60725355,  0.11175852,  0.2636759 ,\n",
              "       -0.06057887,  0.17379928,  0.25738   , -0.24557237,  0.11617521,\n",
              "       -0.01495758, -0.06761327,  0.35570517, -0.24642538, -0.01429566,\n",
              "       -0.0253886 , -0.01604554,  0.00784794, -0.13195455,  0.07567486,\n",
              "       -0.01569435, -0.09070161, -0.07423348,  0.32408476,  0.09112471,\n",
              "        0.23044442,  0.11719362, -0.01066144,  0.1522342 ,  0.19009165,\n",
              "       -0.10710307,  0.24956533,  0.12714845,  0.17077231, -0.09083166,\n",
              "       -0.1363987 ,  0.05791558,  0.11684614,  0.00979068,  0.22704625,\n",
              "        0.49550298,  0.29957685,  0.26415956,  0.2745083 , -0.10545176,\n",
              "        0.2923464 , -0.01943276,  0.14054066, -0.04301525,  0.20492686,\n",
              "       -0.08469933, -0.2986462 ,  0.11566766,  0.46015546,  0.12899053,\n",
              "        0.25688538,  0.2890363 , -0.24342032, -0.25191084,  0.062522  ,\n",
              "        0.22590958, -0.01532799,  0.32305324, -0.20954713, -0.11152393,\n",
              "        0.12113807,  0.23226932,  0.16812678, -0.03009242,  0.15337986,\n",
              "       -0.01206271,  0.23670007,  0.0972342 , -0.05201317,  0.05956858,\n",
              "        0.07637433, -0.14236614, -0.03065946,  0.2398629 , -0.14804363,\n",
              "        0.12663448,  0.12596922,  0.05581537,  0.2837846 ,  0.1052408 ,\n",
              "       -0.01889941,  0.2806963 ,  0.02439286, -0.11609879, -0.12185555,\n",
              "       -0.24228553], dtype=float32)"
            ]
          },
          "metadata": {
            "tags": []
          },
          "execution_count": 56
        }
      ]
    },
    {
      "cell_type": "code",
      "metadata": {
        "id": "cTWYCG73NG9U"
      },
      "source": [
        "#SALVANDO E CARREGANDO O MODELO TREINADO.\r\n",
        "\r\n",
        "modelo.save('modelo.h5')\r\n",
        "modelo_salvo = load_model('modelo.h5')"
      ],
      "execution_count": 57,
      "outputs": []
    },
    {
      "cell_type": "code",
      "metadata": {
        "id": "L7iphZQQC9TR",
        "colab": {
          "base_uri": "https://localhost:8080/",
          "height": 314
        },
        "outputId": "e92c3a29-427d-4723-8e18-2f49e2b436cf"
      },
      "source": [
        "#GRÁFICO DA ACURÁCIA.\r\n",
        "\r\n",
        "plt.plot(historico.history['accuracy'])\r\n",
        "plt.plot(historico.history['val_accuracy'])\r\n",
        "plt.title('Acurácia por Épocas')\r\n",
        "plt.xlabel('épocas')\r\n",
        "plt.ylabel('acurácia')\r\n",
        "plt.legend(['treino', 'validação'])\r\n"
      ],
      "execution_count": 58,
      "outputs": [
        {
          "output_type": "execute_result",
          "data": {
            "text/plain": [
              "<matplotlib.legend.Legend at 0x7f24a5d884a8>"
            ]
          },
          "metadata": {
            "tags": []
          },
          "execution_count": 58
        },
        {
          "output_type": "display_data",
          "data": {
            "image/png": "[encoded data removed]",
            "text/plain": [
              "<Figure size 432x288 with 1 Axes>"
            ]
          },
          "metadata": {
            "tags": [],
            "needs_background": "light"
          }
        }
      ]
    },
    {
      "cell_type": "code",
      "metadata": {
        "id": "9wK2vXTcG8Cz",
        "colab": {
          "base_uri": "https://localhost:8080/",
          "height": 314
        },
        "outputId": "7509ae26-f707-41aa-9f01-a862bf9e8b30"
      },
      "source": [
        "#GRÁFICO DO PERDAS.\r\n",
        "\r\n",
        "plt.plot(historico.history['loss'])\r\n",
        "plt.plot(historico.history['val_loss'])\r\n",
        "plt.title('Loss por Épocas')\r\n",
        "plt.xlabel('épocas')\r\n",
        "plt.ylabel('perda')\r\n",
        "plt.legend(['treino', 'validação'])"
      ],
      "execution_count": 59,
      "outputs": [
        {
          "output_type": "execute_result",
          "data": {
            "text/plain": [
              "<matplotlib.legend.Legend at 0x7f24b14837b8>"
            ]
          },
          "metadata": {
            "tags": []
          },
          "execution_count": 59
        },
        {
          "output_type": "display_data",
          "data": {
            "image/png": "[encoded data removed]",
            "text/plain": [
              "<Figure size 432x288 with 1 Axes>"
            ]
          },
          "metadata": {
            "tags": [],
            "needs_background": "light"
          }
        }
      ]
    },
    {
      "cell_type": "code",
      "metadata": {
        "id": "cg6eV_Y08w87",
        "colab": {
          "base_uri": "https://localhost:8080/"
        },
        "outputId": "6472bff0-cea0-4b5f-9095-9c2365e60885"
      },
      "source": [
        "#TESTANDO O MODELO X MODELO SALVO.\r\n",
        "\r\n",
        "testes = modelo.predict(imagens_teste)\r\n",
        "print('Resultado do Teste: ', np.argmax(testes[1]))\r\n",
        "print('Número da Imagem de Teste:', identificacoes_teste[1])\r\n",
        "\r\n",
        "\r\n",
        "testes_modelo_salvo = modelo_salvo.predict(imagens_teste)\r\n",
        "print('Resultado do Teste Modelo Salvo:', np.argmax(testes_modelo_salvo[1]))\r\n",
        "print('Número da Imagem de Teste:', identificacoes_teste[1])"
      ],
      "execution_count": 60,
      "outputs": [
        {
          "output_type": "stream",
          "text": [
            "Resultado do Teste:  2\n",
            "Número da Imagem de Teste: 2\n",
            "Resultado do Teste Modelo Salvo: 2\n",
            "Número da Imagem de Teste: 2\n"
          ],
          "name": "stdout"
        }
      ]
    },
    {
      "cell_type": "code",
      "metadata": {
        "id": "kpsti-fh-e_-",
        "colab": {
          "base_uri": "https://localhost:8080/"
        },
        "outputId": "7d445583-731a-4eb7-e388-e73f9b16d902"
      },
      "source": [
        "#AVALIANDO O MODELO.\r\n",
        "\r\n",
        "perda_teste, acuracia_teste = modelo.evaluate(imagens_teste, identificacoes_teste)\r\n",
        "print('Perda do Teste:', perda_teste)\r\n",
        "print('Acurácia do Teste:', acuracia_teste)"
      ],
      "execution_count": 61,
      "outputs": [
        {
          "output_type": "stream",
          "text": [
            "313/313 [==============================] - 1s 2ms/step - loss: 50.1573 - accuracy: 0.8623\n",
            "Perda do Teste: 50.15732955932617\n",
            "Acurácia do Teste: 0.8622999787330627\n"
          ],
          "name": "stdout"
        }
      ]
    }
  ]
}